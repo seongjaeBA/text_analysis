{
 "cells": [
  {
   "cell_type": "code",
   "execution_count": 1,
   "metadata": {},
   "outputs": [],
   "source": [
    "import os\n",
    "from dotenv import load_dotenv\n",
    "\n",
    "load_dotenv(dotenv_path='../env/.env')\n",
    "os.environ['OPENAI_API_KEY'] = os.environ.get('ScenarioGpt')\n",
    "# scenario_llama_secure = os.environ.get('ScenarioLlama')"
   ]
  },
  {
   "cell_type": "code",
   "execution_count": 3,
   "metadata": {},
   "outputs": [
    {
     "ename": "ValidationError",
     "evalue": "1 validation error for LlamaCpp\n__root__\n  Could not load Llama model from path: ../../llama/llama-2-13b/consolidated.00.pth. Received error  (type=value_error)",
     "output_type": "error",
     "traceback": [
      "\u001b[1;31m---------------------------------------------------------------------------\u001b[0m",
      "\u001b[1;31mValidationError\u001b[0m                           Traceback (most recent call last)",
      "\u001b[1;32mc:\\Users\\seong\\WorkSpace\\scenario\\analysis\\langchain_analysis.ipynb Cell 2\u001b[0m line \u001b[0;36m1\n\u001b[0;32m      <a href='vscode-notebook-cell:/c%3A/Users/seong/WorkSpace/scenario/analysis/langchain_analysis.ipynb#W1sZmlsZQ%3D%3D?line=4'>5</a>\u001b[0m template \u001b[39m=\u001b[39m \\\n\u001b[0;32m      <a href='vscode-notebook-cell:/c%3A/Users/seong/WorkSpace/scenario/analysis/langchain_analysis.ipynb#W1sZmlsZQ%3D%3D?line=5'>6</a>\u001b[0m \u001b[39m\"\"\"\u001b[39;00m\n\u001b[0;32m      <a href='vscode-notebook-cell:/c%3A/Users/seong/WorkSpace/scenario/analysis/langchain_analysis.ipynb#W1sZmlsZQ%3D%3D?line=6'>7</a>\u001b[0m \u001b[39mQuestion: {question}\u001b[39;00m\n\u001b[0;32m      <a href='vscode-notebook-cell:/c%3A/Users/seong/WorkSpace/scenario/analysis/langchain_analysis.ipynb#W1sZmlsZQ%3D%3D?line=7'>8</a>\u001b[0m \u001b[39mAnswer: Let's work this out in a step by step way to be sure we have the right answer.\u001b[39;00m\n\u001b[0;32m      <a href='vscode-notebook-cell:/c%3A/Users/seong/WorkSpace/scenario/analysis/langchain_analysis.ipynb#W1sZmlsZQ%3D%3D?line=8'>9</a>\u001b[0m \u001b[39m\"\"\"\u001b[39;00m\n\u001b[0;32m     <a href='vscode-notebook-cell:/c%3A/Users/seong/WorkSpace/scenario/analysis/langchain_analysis.ipynb#W1sZmlsZQ%3D%3D?line=9'>10</a>\u001b[0m prompt \u001b[39m=\u001b[39m PromptTemplate(template\u001b[39m=\u001b[39mtemplate, input_variables\u001b[39m=\u001b[39m[\u001b[39m\"\u001b[39m\u001b[39mquestion\u001b[39m\u001b[39m\"\u001b[39m])\n\u001b[1;32m---> <a href='vscode-notebook-cell:/c%3A/Users/seong/WorkSpace/scenario/analysis/langchain_analysis.ipynb#W1sZmlsZQ%3D%3D?line=11'>12</a>\u001b[0m llm \u001b[39m=\u001b[39m LlamaCpp(\n\u001b[0;32m     <a href='vscode-notebook-cell:/c%3A/Users/seong/WorkSpace/scenario/analysis/langchain_analysis.ipynb#W1sZmlsZQ%3D%3D?line=12'>13</a>\u001b[0m \t\u001b[39m# model_path: 로컬머신에 다운로드 받은 모델의 위치\u001b[39;00m\n\u001b[0;32m     <a href='vscode-notebook-cell:/c%3A/Users/seong/WorkSpace/scenario/analysis/langchain_analysis.ipynb#W1sZmlsZQ%3D%3D?line=13'>14</a>\u001b[0m     model_path\u001b[39m=\u001b[39m\u001b[39m\"\u001b[39m\u001b[39m../../llama/llama-2-13b/consolidated.00.pth\u001b[39m\u001b[39m\"\u001b[39m,\n\u001b[0;32m     <a href='vscode-notebook-cell:/c%3A/Users/seong/WorkSpace/scenario/analysis/langchain_analysis.ipynb#W1sZmlsZQ%3D%3D?line=14'>15</a>\u001b[0m     temperature\u001b[39m=\u001b[39m\u001b[39m0.0\u001b[39m,\n\u001b[0;32m     <a href='vscode-notebook-cell:/c%3A/Users/seong/WorkSpace/scenario/analysis/langchain_analysis.ipynb#W1sZmlsZQ%3D%3D?line=15'>16</a>\u001b[0m     top_p\u001b[39m=\u001b[39m\u001b[39m1\u001b[39m,\n\u001b[0;32m     <a href='vscode-notebook-cell:/c%3A/Users/seong/WorkSpace/scenario/analysis/langchain_analysis.ipynb#W1sZmlsZQ%3D%3D?line=16'>17</a>\u001b[0m     max_tokens\u001b[39m=\u001b[39m\u001b[39m8192\u001b[39m,\n\u001b[0;32m     <a href='vscode-notebook-cell:/c%3A/Users/seong/WorkSpace/scenario/analysis/langchain_analysis.ipynb#W1sZmlsZQ%3D%3D?line=17'>18</a>\u001b[0m     verbose\u001b[39m=\u001b[39m\u001b[39mTrue\u001b[39;00m,\n\u001b[0;32m     <a href='vscode-notebook-cell:/c%3A/Users/seong/WorkSpace/scenario/analysis/langchain_analysis.ipynb#W1sZmlsZQ%3D%3D?line=18'>19</a>\u001b[0m     \u001b[39m# n_ctx: 모델이 한 번에 처리할 수 있는 최대 컨텍스트 길이\u001b[39;00m\n\u001b[0;32m     <a href='vscode-notebook-cell:/c%3A/Users/seong/WorkSpace/scenario/analysis/langchain_analysis.ipynb#W1sZmlsZQ%3D%3D?line=19'>20</a>\u001b[0m     n_ctx\u001b[39m=\u001b[39m\u001b[39m4096\u001b[39m \n\u001b[0;32m     <a href='vscode-notebook-cell:/c%3A/Users/seong/WorkSpace/scenario/analysis/langchain_analysis.ipynb#W1sZmlsZQ%3D%3D?line=20'>21</a>\u001b[0m )\n\u001b[0;32m     <a href='vscode-notebook-cell:/c%3A/Users/seong/WorkSpace/scenario/analysis/langchain_analysis.ipynb#W1sZmlsZQ%3D%3D?line=22'>23</a>\u001b[0m llm_chain \u001b[39m=\u001b[39m LLMChain(prompt\u001b[39m=\u001b[39mprompt, llm\u001b[39m=\u001b[39mllm)\n\u001b[0;32m     <a href='vscode-notebook-cell:/c%3A/Users/seong/WorkSpace/scenario/analysis/langchain_analysis.ipynb#W1sZmlsZQ%3D%3D?line=24'>25</a>\u001b[0m prompt \u001b[39m=\u001b[39m \u001b[39m\"\"\"\u001b[39m\n\u001b[0;32m     <a href='vscode-notebook-cell:/c%3A/Users/seong/WorkSpace/scenario/analysis/langchain_analysis.ipynb#W1sZmlsZQ%3D%3D?line=25'>26</a>\u001b[0m \u001b[39mAmong Korean dramas, please recommend 3 medical dramas about hospital life. \u001b[39m\n\u001b[0;32m     <a href='vscode-notebook-cell:/c%3A/Users/seong/WorkSpace/scenario/analysis/langchain_analysis.ipynb#W1sZmlsZQ%3D%3D?line=26'>27</a>\u001b[0m \u001b[39mWhen recommending, classify it by number and title, and describe the release year and cast.\u001b[39m\n\u001b[0;32m     <a href='vscode-notebook-cell:/c%3A/Users/seong/WorkSpace/scenario/analysis/langchain_analysis.ipynb#W1sZmlsZQ%3D%3D?line=27'>28</a>\u001b[0m \u001b[39m\"\"\"\u001b[39m\n",
      "File \u001b[1;32m~\\AppData\\Roaming\\Python\\Python311\\site-packages\\langchain\\load\\serializable.py:97\u001b[0m, in \u001b[0;36mSerializable.__init__\u001b[1;34m(self, **kwargs)\u001b[0m\n\u001b[0;32m     96\u001b[0m \u001b[39mdef\u001b[39;00m \u001b[39m__init__\u001b[39m(\u001b[39mself\u001b[39m, \u001b[39m*\u001b[39m\u001b[39m*\u001b[39mkwargs: Any) \u001b[39m-\u001b[39m\u001b[39m>\u001b[39m \u001b[39mNone\u001b[39;00m:\n\u001b[1;32m---> 97\u001b[0m     \u001b[39msuper\u001b[39m()\u001b[39m.\u001b[39m\u001b[39m__init__\u001b[39m(\u001b[39m*\u001b[39m\u001b[39m*\u001b[39mkwargs)\n\u001b[0;32m     98\u001b[0m     \u001b[39mself\u001b[39m\u001b[39m.\u001b[39m_lc_kwargs \u001b[39m=\u001b[39m kwargs\n",
      "File \u001b[1;32mc:\\ProgramData\\anaconda3\\Lib\\site-packages\\pydantic\\main.py:341\u001b[0m, in \u001b[0;36mpydantic.main.BaseModel.__init__\u001b[1;34m()\u001b[0m\n",
      "\u001b[1;31mValidationError\u001b[0m: 1 validation error for LlamaCpp\n__root__\n  Could not load Llama model from path: ../../llama/llama-2-13b/consolidated.00.pth. Received error  (type=value_error)"
     ]
    }
   ],
   "source": [
    "import langchain\n",
    "from langchain.llms import LlamaCpp\n",
    "from langchain import PromptTemplate, LLMChain\n",
    "\n",
    "# chaining models, agents, memory, prompts, indexes, chains\n",
    "template = \\\n",
    "\"\"\"\n",
    "Question: {question}\n",
    "Answer: Let's work this out in a step by step way to be sure we have the right answer.\n",
    "\"\"\"\n",
    "prompt = PromptTemplate(template=template, input_variables=[\"question\"])\n",
    "\n",
    "llm = LlamaCpp(\n",
    "\t# model_path: 로컬머신에 다운로드 받은 모델의 위치\n",
    "    model_path=\"../../llama/llama-2-13b/consolidated.00.pth\",\n",
    "    temperature=0.0,\n",
    "    top_p=1,\n",
    "    max_tokens=8192,\n",
    "    verbose=True,\n",
    "    # n_ctx: 모델이 한 번에 처리할 수 있는 최대 컨텍스트 길이\n",
    "    n_ctx=4096 \n",
    ")\n",
    "\n",
    "llm_chain = LLMChain(prompt=prompt, llm=llm)\n",
    "\n",
    "prompt = \"\"\"\n",
    "Among Korean dramas, please recommend 3 medical dramas about hospital life. \n",
    "When recommending, classify it by number and title, and describe the release year and cast.\n",
    "\"\"\"\n",
    "\n",
    "response = llm_chain.run(prompt)\n",
    "print(response)"
   ]
  },
  {
   "cell_type": "code",
   "execution_count": 27,
   "metadata": {},
   "outputs": [
    {
     "name": "stdout",
     "output_type": "stream",
     "text": [
      "]\n",
      "\n",
      "L[hi]\n",
      "L[hi]\n",
      "\n",
      "L[hi] is a reference to the element at the index of \"hi\" in the list \"L\". For example, if L is equal to [1, 2, 3, 4, 5] and hi is equal to 3, then L[hi] would be equal to 4.\n"
     ]
    }
   ],
   "source": [
    "from langchain.llms import OpenAI\n",
    "gpt = OpenAI()\n",
    "result = gpt.predict(\"hi\")\n",
    "print(result)"
   ]
  },
  {
   "cell_type": "code",
   "execution_count": null,
   "metadata": {},
   "outputs": [],
   "source": [
    "from langchain.chat_models import ChatOpenAI\n",
    "chat_model = ChatOpenAI()\n",
    "\n",
    "content = \n"
   ]
  }
 ],
 "metadata": {
  "kernelspec": {
   "display_name": "base",
   "language": "python",
   "name": "python3"
  },
  "language_info": {
   "codemirror_mode": {
    "name": "ipython",
    "version": 3
   },
   "file_extension": ".py",
   "mimetype": "text/x-python",
   "name": "python",
   "nbconvert_exporter": "python",
   "pygments_lexer": "ipython3",
   "version": "3.11.5"
  }
 },
 "nbformat": 4,
 "nbformat_minor": 2
}
